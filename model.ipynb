{
 "cells": [
  {
   "cell_type": "code",
   "execution_count": 3,
   "metadata": {},
   "outputs": [],
   "source": [
    "import pandas as pd\n",
    "import cv2\n",
    "import time\n"
   ]
  },
  {
   "cell_type": "code",
   "execution_count": 4,
   "metadata": {},
   "outputs": [],
   "source": [
    "# Read the image\n",
    "img_path = 'wider_face/data/WIDER_val/images/0--Parade/0_Parade_marchingband_1_20.jpg'\n",
    "img = cv2.imread(img_path)\n",
    "\n",
    "# Read the bounding box coordinates from the text file\n",
    "with open('wider_face/data/wider_face_split/wider_face_val_bbx_gt.txt', 'r') as f:\n",
    "    lines = f.readlines()\n",
    "    found_image = False\n",
    "    for line in lines:\n",
    "        if line.strip() == img_path:\n",
    "            found_image = True\n",
    "            continue  # Skip to the next line\n",
    "        if found_image:\n",
    "            if line.strip().isdigit():  # Check if the line contains only a number\n",
    "                num_boxes = int(line.strip())\n",
    "                for i in range(num_boxes):\n",
    "                    coords = next(f).strip().split()\n",
    "                    x, y, w, h = map(int, coords[:4])\n",
    "                    cv2.rectangle(img, (x, y), (x+w, y+h), (0, 255, 0), 2)\n",
    "                break\n",
    "\n",
    "# Display the image with bounding boxes\n",
    "cv2.imshow('Image with Bounding Boxes', img)\n",
    "cv2.waitKey(1)  # Wait for 1 millisecond\n",
    "\n",
    "# Wait for 5 seconds\n",
    "time.sleep(5)\n",
    "\n",
    "# Close the image window\n",
    "cv2.destroyAllWindows()\n"
   ]
  }
 ],
 "metadata": {
  "kernelspec": {
   "display_name": "venv-metal",
   "language": "python",
   "name": "python3"
  },
  "language_info": {
   "codemirror_mode": {
    "name": "ipython",
    "version": 3
   },
   "file_extension": ".py",
   "mimetype": "text/x-python",
   "name": "python",
   "nbconvert_exporter": "python",
   "pygments_lexer": "ipython3",
   "version": "3.10.11"
  }
 },
 "nbformat": 4,
 "nbformat_minor": 2
}
